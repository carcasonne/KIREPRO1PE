{
 "cells": [
  {
   "cell_type": "code",
   "id": "initial_id",
   "metadata": {
    "collapsed": true,
    "ExecuteTime": {
     "end_time": "2024-10-24T17:14:53.100650Z",
     "start_time": "2024-10-24T17:14:53.054064Z"
    }
   },
   "source": [
    "\n",
    "from matplotlib import pyplot as plt\n",
    "import os\n",
    "import librosa\n",
    "import numpy as np\n",
    "import random\n",
    "\n",
    "from scipy.signal import spectrogram\n",
    "\n",
    "SAMPLE_RATE = 16000\n",
    "DURATION = 1\n",
    "\n",
    "path = 'audio_files/for-2sec/for-2seconds'\n",
    "\n",
    "def process_audio_files(file):\n",
    "    testing = []\n",
    "    training = []\n",
    "    validation = []\n",
    "        \n",
    "    for dirpath, dirnames, filenames in os.walk(file):\n",
    "        for filename in filenames:\n",
    "            filepath = os.path.join(dirpath, filename)\n",
    "            if 'testing' in dirpath:\n",
    "                testing.append(convert_to_spectrogram(filepath))\n",
    "            elif 'training' in dirpath:\n",
    "                training.append(convert_to_spectrogram(filepath))\n",
    "            elif 'validation' in dirpath:\n",
    "                validation.append(convert_to_spectrogram(filepath))\n",
    "\n",
    "    return testing, training, validation\n",
    "\n",
    "def proccess_audio_files_samples(file):\n",
    "    testing = []\n",
    "    training = []\n",
    "    validation = []\n",
    "    \n",
    "    subfolders = ['testing', 'training', 'validation']\n",
    "\n",
    "    for subfolder in subfolders:\n",
    "        subfolder_path = os.path.join(file, subfolder)\n",
    "        all_files = [f for f in os.listdir(subfolder_path) if os.path.isfile(os.path.join(subfolder_path, f))]\n",
    "        selected_files = random.sample(all_files, 50)\n",
    "        \n",
    "    for i in range(100):\n",
    "        for dirpath, dirnames, filenames in os.walk(file):\n",
    "            for filename in filenames:\n",
    "                filepath = os.path.join(dirpath, filename)\n",
    "                if 'testing' in dirpath:\n",
    "                    testing.append(convert_to_spectrogram(filepath))\n",
    "                elif 'training' in dirpath:\n",
    "                    training.append(convert_to_spectrogram(filepath))\n",
    "                elif 'validation' in dirpath:\n",
    "                    validation.append(convert_to_spectrogram(filepath))\n",
    "\n",
    "    return testing, training, validation\n",
    "\n",
    "\n",
    "\n",
    "def convert_to_spectrogram(filepath):\n",
    "    audio, _ = librosa.load(filepath, sr=SAMPLE_RATE, duration=DURATION)\n",
    "    spec = librosa.stft(audio)\n",
    "    return librosa.amplitude_to_db(np.abs(spec), ref=np.max)\n",
    "\n",
    "def print_sample_spec(index):\n",
    "    plt.figure(figsize=(10, 6))\n",
    "    librosa.display.specshow(index, x_axis='time', y_axis='log', cmap='viridis')\n",
    "    plt.colorbar(format='%+2.0f dB')\n",
    "    plt.title('STFT Spectrogram (dB)')\n",
    "    plt.xlabel('Time (s)')\n",
    "    plt.ylabel('Frequency (Hz)')\n",
    "    plt.show()\n",
    "\n",
    "test, train, val = process_audio_files(path)\n",
    "\n",
    "print_sample_spec(test[3])\n",
    "print_sample_spec(test[4])\n",
    "print_sample_spec(val[22])\n",
    "print_sample_spec(train[0])\n",
    "\n"
   ],
   "outputs": [
    {
     "ename": "IndexError",
     "evalue": "list index out of range",
     "output_type": "error",
     "traceback": [
      "\u001B[1;31m---------------------------------------------------------------------------\u001B[0m",
      "\u001B[1;31mIndexError\u001B[0m                                Traceback (most recent call last)",
      "Cell \u001B[1;32mIn[34], line 53\u001B[0m\n\u001B[0;32m     49\u001B[0m     plt\u001B[38;5;241m.\u001B[39mshow()\n\u001B[0;32m     51\u001B[0m test, train, val \u001B[38;5;241m=\u001B[39m process_audio_files(path)\n\u001B[1;32m---> 53\u001B[0m print_sample_spec(\u001B[43mtest\u001B[49m\u001B[43m[\u001B[49m\u001B[38;5;241;43m3\u001B[39;49m\u001B[43m]\u001B[49m)\n\u001B[0;32m     54\u001B[0m print_sample_spec(test[\u001B[38;5;241m4\u001B[39m])\n\u001B[0;32m     55\u001B[0m print_sample_spec(val[\u001B[38;5;241m22\u001B[39m])\n",
      "\u001B[1;31mIndexError\u001B[0m: list index out of range"
     ]
    }
   ],
   "execution_count": 34
  },
  {
   "metadata": {},
   "cell_type": "code",
   "outputs": [],
   "execution_count": null,
   "source": "",
   "id": "ec156ba49eddff6f"
  }
 ],
 "metadata": {
  "kernelspec": {
   "display_name": "Python 3",
   "language": "python",
   "name": "python3"
  },
  "language_info": {
   "codemirror_mode": {
    "name": "ipython",
    "version": 2
   },
   "file_extension": ".py",
   "mimetype": "text/x-python",
   "name": "python",
   "nbconvert_exporter": "python",
   "pygments_lexer": "ipython2",
   "version": "2.7.6"
  }
 },
 "nbformat": 4,
 "nbformat_minor": 5
}
